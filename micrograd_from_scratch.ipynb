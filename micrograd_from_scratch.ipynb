{
 "cells": [
  {
   "cell_type": "markdown",
   "metadata": {},
   "source": [
    "# Implementing micrograd \n",
    "#### This is a tutorial followed from Andrej Karpathy"
   ]
  },
  {
   "cell_type": "code",
   "execution_count": 15,
   "metadata": {},
   "outputs": [],
   "source": [
    "import math\n",
    "import numpy as np\n",
    "import matplotlib.pyplot as plt\n",
    "%matplotlib inline"
   ]
  },
  {
   "cell_type": "markdown",
   "metadata": {},
   "source": [
    "Lets understand the deratives and functions"
   ]
  },
  {
   "cell_type": "code",
   "execution_count": 16,
   "metadata": {},
   "outputs": [
    {
     "data": {
      "text/plain": [
       "144"
      ]
     },
     "execution_count": 16,
     "metadata": {},
     "output_type": "execute_result"
    }
   ],
   "source": [
    "def f(x):\n",
    "    return 5*x**2 + 4*x - 1\n",
    "\n",
    "f(5)"
   ]
  },
  {
   "cell_type": "code",
   "execution_count": 17,
   "metadata": {},
   "outputs": [
    {
     "data": {
      "text/plain": [
       "[<matplotlib.lines.Line2D at 0x1bd93401cd0>]"
      ]
     },
     "execution_count": 17,
     "metadata": {},
     "output_type": "execute_result"
    },
    {
     "data": {
      "image/png": "[encoded data removed]",
      "text/plain": [
       "<Figure size 640x480 with 1 Axes>"
      ]
     },
     "metadata": {},
     "output_type": "display_data"
    }
   ],
   "source": [
    "xs = np.arange(-5, 5.01, 0.25)\n",
    "ys = f(xs)\n",
    "plt.plot(xs, ys)"
   ]
  },
  {
   "cell_type": "markdown",
   "metadata": {},
   "source": [
    "### Understanding derivatives \n",
    "- Here the taken function is $ 5x^2+4x-1 $\n",
    "- So the  derivative of given function is $ 10x + 4 $"
   ]
  },
  {
   "cell_type": "code",
   "execution_count": 18,
   "metadata": {},
   "outputs": [
    {
     "data": {
      "text/plain": [
       "44.000003640576324"
      ]
     },
     "execution_count": 18,
     "metadata": {},
     "output_type": "execute_result"
    }
   ],
   "source": [
    "h = 0.000000001\n",
    "x = 4\n",
    "(f(x + h) - f(x))/h  #defination of derivative\n",
    "#if you insert x = 4 into derivaitve you will get the nearly the same output"
   ]
  },
  {
   "cell_type": "code",
   "execution_count": 19,
   "metadata": {},
   "outputs": [
    {
     "data": {
      "text/plain": [
       "-2.2204460492503128e-07"
      ]
     },
     "execution_count": 19,
     "metadata": {},
     "output_type": "execute_result"
    }
   ],
   "source": [
    "# the derivative will be zero at x = -2/5\n",
    "x = -2/5\n",
    "(f(x + h) - f(x))/h"
   ]
  },
  {
   "cell_type": "markdown",
   "metadata": {},
   "source": [
    "Understanding derivatives for multiple variables"
   ]
  },
  {
   "cell_type": "code",
   "execution_count": 20,
   "metadata": {},
   "outputs": [
    {
     "name": "stdout",
     "output_type": "stream",
     "text": [
      "d1 4.0\n",
      "d2 3.9999699999999994\n",
      "derivative -3.000000000064062\n"
     ]
    }
   ],
   "source": [
    "a = 2.0\n",
    "b = -3.0\n",
    "c = 10\n",
    "\n",
    "d1 = a*b + c\n",
    "h = 0.00001\n",
    "a += h\n",
    "\n",
    "d2 = a*b + c\n",
    "\n",
    "print('d1', d1)\n",
    "print('d2', d2)\n",
    "print('derivative', (d2-d1)/h)"
   ]
  },
  {
   "cell_type": "markdown",
   "metadata": {},
   "source": [
    "### Implementing micrograd"
   ]
  },
  {
   "cell_type": "code",
   "execution_count": 21,
   "metadata": {},
   "outputs": [],
   "source": [
    "class Value:\n",
    "    def __init__(self, data, _children=(), _op='', label=''):\n",
    "        self.data = data\n",
    "        self.grad = 0\n",
    "        self._prev = set(_children)\n",
    "        self._op = _op\n",
    "        self.label = label\n",
    "    \n",
    "    def __repr__(self):\n",
    "        return f\"Value(data={self.data})\"\n",
    "    \n",
    "    #adding a addition operation for Value object\n",
    "    def __add__(self, other):\n",
    "        result = Value(self.data + other.data, (self, other), '+')\n",
    "        return result\n",
    "\n",
    "    #adding a multiplication operation for Value object\n",
    "    def __mul__(self, other):\n",
    "        result = Value(self.data * other.data, (self, other), '*')\n",
    "        return result"
   ]
  },
  {
   "cell_type": "code",
   "execution_count": 22,
   "metadata": {},
   "outputs": [
    {
     "data": {
      "text/plain": [
       "Value(data=5.0)"
      ]
     },
     "execution_count": 22,
     "metadata": {},
     "output_type": "execute_result"
    }
   ],
   "source": [
    "a = Value(2.0, label='a')\n",
    "b = Value(3.0, label='b')\n",
    "a+b"
   ]
  },
  {
   "cell_type": "code",
   "execution_count": 23,
   "metadata": {},
   "outputs": [
    {
     "data": {
      "text/plain": [
       "Value(data=11.0)"
      ]
     },
     "execution_count": 23,
     "metadata": {},
     "output_type": "execute_result"
    }
   ],
   "source": [
    "c=Value(5.0, label='c')\n",
    "a*b+c"
   ]
  },
  {
   "cell_type": "code",
   "execution_count": 24,
   "metadata": {},
   "outputs": [],
   "source": [
    "d = a*b+c"
   ]
  },
  {
   "cell_type": "code",
   "execution_count": 25,
   "metadata": {},
   "outputs": [
    {
     "data": {
      "text/plain": [
       "{Value(data=5.0), Value(data=6.0)}"
      ]
     },
     "execution_count": 25,
     "metadata": {},
     "output_type": "execute_result"
    }
   ],
   "source": [
    "d._prev"
   ]
  },
  {
   "cell_type": "code",
   "execution_count": 26,
   "metadata": {},
   "outputs": [
    {
     "data": {
      "text/plain": [
       "'+'"
      ]
     },
     "execution_count": 26,
     "metadata": {},
     "output_type": "execute_result"
    }
   ],
   "source": [
    "d._op"
   ]
  },
  {
   "cell_type": "code",
   "execution_count": 27,
   "metadata": {},
   "outputs": [],
   "source": [
    "\n",
    "from graphviz import Digraph\n",
    "\n",
    "def trace(root):\n",
    "  # builds a set of all nodes and edges in a graph\n",
    "  nodes, edges = set(), set()\n",
    "  def build(v):\n",
    "    if v not in nodes:\n",
    "      nodes.add(v)\n",
    "      for child in v._prev:\n",
    "        edges.add((child, v))\n",
    "        build(child)\n",
    "  build(root)\n",
    "  return nodes, edges\n",
    "\n",
    "def draw_dot(root):\n",
    "  dot = Digraph(format='svg', graph_attr={'rankdir': 'LR'}) # LR = left to right\n",
    "  \n",
    "  nodes, edges = trace(root)\n",
    "  for n in nodes:\n",
    "    uid = str(id(n))\n",
    "    # for any value in the graph, create a rectangular ('record') node for it\n",
    "    dot.node(name = uid, label = \"{ %s | data %.4f | grad %.4f }\" % (n.label, n.data, n.grad), shape='record')\n",
    "    if n._op:\n",
    "      # if this value is a result of some operation, create an op node for it\n",
    "      dot.node(name = uid + n._op, label = n._op)\n",
    "      # and connect this node to it\n",
    "      dot.edge(uid + n._op, uid)\n",
    "\n",
    "  for n1, n2 in edges:\n",
    "    # connect n1 to the op node of n2\n",
    "    dot.edge(str(id(n1)), str(id(n2)) + n2._op)\n",
    "\n",
    "  return dot"
   ]
  },
  {
   "cell_type": "code",
   "execution_count": 28,
   "metadata": {},
   "outputs": [
    {
     "data": {
      "image/svg+xml": "<?xml version=\"1.0\" encoding=\"UTF-8\" standalone=\"no\"?>\n<!DOCTYPE svg PUBLIC \"-//W3C//DTD SVG 1.1//EN\"\n \"http://www.w3.org/Graphics/SVG/1.1/DTD/svg11.dtd\">\n<!-- Generated by graphviz version 6.0.2 (20221011.1828)\n -->\n<!-- Pages: 1 -->\n<svg width=\"826pt\" height=\"128pt\"\n viewBox=\"0.00 0.00 826.00 128.00\" xmlns=\"http://www.w3.org/2000/svg\" xmlns:xlink=\"http://www.w3.org/1999/xlink\">\n<g id=\"graph0\" class=\"graph\" transform=\"scale(1 1) rotate(0) translate(4 124)\">\n<polygon fill=\"white\" stroke=\"none\" points=\"-4,4 -4,-124 822,-124 822,4 -4,4\"/>\n<!-- 1913731226640 -->\n<g id=\"node1\" class=\"node\">\n<title>1913731226640</title>\n<polygon fill=\"none\" stroke=\"black\" points=\"0.5,-83.5 0.5,-119.5 187.5,-119.5 187.5,-83.5 0.5,-83.5\"/>\n<text text-anchor=\"middle\" x=\"12\" y=\"-97.8\" font-family=\"Times New Roman,serif\" font-size=\"14.00\">a</text>\n<polyline fill=\"none\" stroke=\"black\" points=\"23.5,-83.5 23.5,-119.5\"/>\n<text text-anchor=\"middle\" x=\"64\" y=\"-97.8\" font-family=\"Times New Roman,serif\" font-size=\"14.00\">data 2.0000</text>\n<polyline fill=\"none\" stroke=\"black\" points=\"104.5,-83.5 104.5,-119.5\"/>\n<text text-anchor=\"middle\" x=\"146\" y=\"-97.8\" font-family=\"Times New Roman,serif\" font-size=\"14.00\">grad 0.0000</text>\n</g>\n<!-- 1913731224384* -->\n<g id=\"node7\" class=\"node\">\n<title>1913731224384*</title>\n<ellipse fill=\"none\" stroke=\"black\" cx=\"251\" cy=\"-73.5\" rx=\"27\" ry=\"18\"/>\n<text text-anchor=\"middle\" x=\"251\" y=\"-69.8\" font-family=\"Times New Roman,serif\" font-size=\"14.00\">*</text>\n</g>\n<!-- 1913731226640&#45;&gt;1913731224384* -->\n<g id=\"edge3\" class=\"edge\">\n<title>1913731226640&#45;&gt;1913731224384*</title>\n<path fill=\"none\" stroke=\"black\" d=\"M187.85,-84.73C197.37,-83.01 206.57,-81.35 214.84,-79.85\"/>\n<polygon fill=\"black\" stroke=\"black\" points=\"215.55,-83.28 224.77,-78.06 214.31,-76.39 215.55,-83.28\"/>\n</g>\n<!-- 1913731223616 -->\n<g id=\"node2\" class=\"node\">\n<title>1913731223616</title>\n<polygon fill=\"none\" stroke=\"black\" points=\"314,-0.5 314,-36.5 501,-36.5 501,-0.5 314,-0.5\"/>\n<text text-anchor=\"middle\" x=\"325.5\" y=\"-14.8\" font-family=\"Times New Roman,serif\" font-size=\"14.00\">c</text>\n<polyline fill=\"none\" stroke=\"black\" points=\"337,-0.5 337,-36.5\"/>\n<text text-anchor=\"middle\" x=\"377.5\" y=\"-14.8\" font-family=\"Times New Roman,serif\" font-size=\"14.00\">data 5.0000</text>\n<polyline fill=\"none\" stroke=\"black\" points=\"418,-0.5 418,-36.5\"/>\n<text text-anchor=\"middle\" x=\"459.5\" y=\"-14.8\" font-family=\"Times New Roman,serif\" font-size=\"14.00\">grad 0.0000</text>\n</g>\n<!-- 1913731225920+ -->\n<g id=\"node5\" class=\"node\">\n<title>1913731225920+</title>\n<ellipse fill=\"none\" stroke=\"black\" cx=\"564\" cy=\"-45.5\" rx=\"27\" ry=\"18\"/>\n<text text-anchor=\"middle\" x=\"564\" y=\"-41.8\" font-family=\"Times New Roman,serif\" font-size=\"14.00\">+</text>\n</g>\n<!-- 1913731223616&#45;&gt;1913731225920+ -->\n<g id=\"edge6\" class=\"edge\">\n<title>1913731223616&#45;&gt;1913731225920+</title>\n<path fill=\"none\" stroke=\"black\" d=\"M501.05,-34.67C510.34,-36.3 519.33,-37.87 527.44,-39.29\"/>\n<polygon fill=\"black\" stroke=\"black\" points=\"527.1,-42.78 537.55,-41.05 528.3,-35.88 527.1,-42.78\"/>\n</g>\n<!-- 1913731227264 -->\n<g id=\"node3\" class=\"node\">\n<title>1913731227264</title>\n<polygon fill=\"none\" stroke=\"black\" points=\"0,-28.5 0,-64.5 188,-64.5 188,-28.5 0,-28.5\"/>\n<text text-anchor=\"middle\" x=\"12\" y=\"-42.8\" font-family=\"Times New Roman,serif\" font-size=\"14.00\">b</text>\n<polyline fill=\"none\" stroke=\"black\" points=\"24,-28.5 24,-64.5\"/>\n<text text-anchor=\"middle\" x=\"64.5\" y=\"-42.8\" font-family=\"Times New Roman,serif\" font-size=\"14.00\">data 3.0000</text>\n<polyline fill=\"none\" stroke=\"black\" points=\"105,-28.5 105,-64.5\"/>\n<text text-anchor=\"middle\" x=\"146.5\" y=\"-42.8\" font-family=\"Times New Roman,serif\" font-size=\"14.00\">grad 0.0000</text>\n</g>\n<!-- 1913731227264&#45;&gt;1913731224384* -->\n<g id=\"edge5\" class=\"edge\">\n<title>1913731227264&#45;&gt;1913731224384*</title>\n<path fill=\"none\" stroke=\"black\" d=\"M188.29,-62.75C197.57,-64.37 206.52,-65.93 214.61,-67.33\"/>\n<polygon fill=\"black\" stroke=\"black\" points=\"214.22,-70.82 224.68,-69.09 215.42,-63.92 214.22,-70.82\"/>\n</g>\n<!-- 1913731225920 -->\n<g id=\"node4\" class=\"node\">\n<title>1913731225920</title>\n<polygon fill=\"none\" stroke=\"black\" points=\"627,-27.5 627,-63.5 818,-63.5 818,-27.5 627,-27.5\"/>\n<text text-anchor=\"middle\" x=\"637\" y=\"-41.8\" font-family=\"Times New Roman,serif\" font-size=\"14.00\"> </text>\n<polyline fill=\"none\" stroke=\"black\" points=\"647,-27.5 647,-63.5\"/>\n<text text-anchor=\"middle\" x=\"691\" y=\"-41.8\" font-family=\"Times New Roman,serif\" font-size=\"14.00\">data 11.0000</text>\n<polyline fill=\"none\" stroke=\"black\" points=\"735,-27.5 735,-63.5\"/>\n<text text-anchor=\"middle\" x=\"776.5\" y=\"-41.8\" font-family=\"Times New Roman,serif\" font-size=\"14.00\">grad 0.0000</text>\n</g>\n<!-- 1913731225920+&#45;&gt;1913731225920 -->\n<g id=\"edge1\" class=\"edge\">\n<title>1913731225920+&#45;&gt;1913731225920</title>\n<path fill=\"none\" stroke=\"black\" d=\"M591.19,-45.5C598.67,-45.5 607.31,-45.5 616.51,-45.5\"/>\n<polygon fill=\"black\" stroke=\"black\" points=\"616.68,-49 626.68,-45.5 616.68,-42 616.68,-49\"/>\n</g>\n<!-- 1913731224384 -->\n<g id=\"node6\" class=\"node\">\n<title>1913731224384</title>\n<polygon fill=\"none\" stroke=\"black\" points=\"315.5,-55.5 315.5,-91.5 499.5,-91.5 499.5,-55.5 315.5,-55.5\"/>\n<text text-anchor=\"middle\" x=\"325.5\" y=\"-69.8\" font-family=\"Times New Roman,serif\" font-size=\"14.00\"> </text>\n<polyline fill=\"none\" stroke=\"black\" points=\"335.5,-55.5 335.5,-91.5\"/>\n<text text-anchor=\"middle\" x=\"376\" y=\"-69.8\" font-family=\"Times New Roman,serif\" font-size=\"14.00\">data 6.0000</text>\n<polyline fill=\"none\" stroke=\"black\" points=\"416.5,-55.5 416.5,-91.5\"/>\n<text text-anchor=\"middle\" x=\"458\" y=\"-69.8\" font-family=\"Times New Roman,serif\" font-size=\"14.00\">grad 0.0000</text>\n</g>\n<!-- 1913731224384&#45;&gt;1913731225920+ -->\n<g id=\"edge4\" class=\"edge\">\n<title>1913731224384&#45;&gt;1913731225920+</title>\n<path fill=\"none\" stroke=\"black\" d=\"M499.71,-56.97C509.65,-55.17 519.27,-53.42 527.89,-51.86\"/>\n<polygon fill=\"black\" stroke=\"black\" points=\"528.63,-55.29 537.85,-50.06 527.38,-48.4 528.63,-55.29\"/>\n</g>\n<!-- 1913731224384*&#45;&gt;1913731224384 -->\n<g id=\"edge2\" class=\"edge\">\n<title>1913731224384*&#45;&gt;1913731224384</title>\n<path fill=\"none\" stroke=\"black\" d=\"M278.21,-73.5C286.07,-73.5 295.2,-73.5 304.91,-73.5\"/>\n<polygon fill=\"black\" stroke=\"black\" points=\"305.2,-77 315.2,-73.5 305.2,-70 305.2,-77\"/>\n</g>\n</g>\n</svg>\n",
      "text/plain": [
       "<graphviz.graphs.Digraph at 0x1bd93455640>"
      ]
     },
     "execution_count": 28,
     "metadata": {},
     "output_type": "execute_result"
    }
   ],
   "source": [
    "draw_dot(d)"
   ]
  },
  {
   "cell_type": "code",
   "execution_count": null,
   "metadata": {},
   "outputs": [],
   "source": []
  }
 ],
 "metadata": {
  "kernelspec": {
   "display_name": "Python 3.9.13",
   "language": "python",
   "name": "python3"
  },
  "language_info": {
   "codemirror_mode": {
    "name": "ipython",
    "version": 3
   },
   "file_extension": ".py",
   "mimetype": "text/x-python",
   "name": "python",
   "nbconvert_exporter": "python",
   "pygments_lexer": "ipython3",
   "version": "3.9.13"
  },
  "orig_nbformat": 4,
  "vscode": {
   "interpreter": {
    "hash": "48c2112a8328d33382c63d86ada5a19139318595a90575a431b9665a806e2427"
   }
  }
 },
 "nbformat": 4,
 "nbformat_minor": 2
}
